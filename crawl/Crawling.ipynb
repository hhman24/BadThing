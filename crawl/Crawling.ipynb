{
 "cells": [
  {
   "attachments": {},
   "cell_type": "markdown",
   "metadata": {},
   "source": []
  },
  {
   "attachments": {},
   "cell_type": "markdown",
   "metadata": {},
   "source": [
    "# ĐỒ ÁN NHẬP MÔN KHOA HỌC DỮ LIỆU\n",
    "### Giảng viên: \n",
    "- Giảng viên lí thuyết: Nguyễn Ngọc Thảo \n",
    "- Giảng viên thực hành: \n",
    "    + Lê Nhựt Nam\n",
    "    + Kiều Vũ Minh Đức \n",
    "### Sinh viên thực hiện: \n",
    "|MSSV|Họ và tên|Phân công|\n",
    "|---|---|---|\n",
    "|20127395|Phan Minh Xuân|Xử lí dữ liệu, phân tích câu 1,6, LinearRegression Model|\n",
    "|20127444|Bùi Duy Bảo|Phân tích câu 4,5, Cross Validation|\n",
    "|20127448|Nguyễn Thái Bảo|Thu thập dữ liệu, phân tích câu 2,3, RandomFrest Model|\n"
   ]
  },
  {
   "cell_type": "markdown",
   "metadata": {},
   "source": [
    "![a](https://wallpapercave.com/dwp1x/wp4908775.jpg)"
   ]
  },
  {
   "attachments": {},
   "cell_type": "markdown",
   "metadata": {},
   "source": [
    "# Thu thập dữ liệu"
   ]
  },
  {
   "cell_type": "markdown",
   "metadata": {},
   "source": [
    "### Import những thư viện cần thiết"
   ]
  },
  {
   "cell_type": "code",
   "execution_count": 1,
   "metadata": {},
   "outputs": [],
   "source": [
    "from selenium import webdriver\n",
    "from selenium.webdriver.common.by import By\n",
    "import pandas as pd \n",
    "import time"
   ]
  },
  {
   "cell_type": "markdown",
   "metadata": {},
   "source": [
    "### Liên kết với trang web cần scrawling"
   ]
  },
  {
   "cell_type": "code",
   "execution_count": 3,
   "metadata": {},
   "outputs": [],
   "source": [
    "driver = webdriver.Chrome()\n",
    "driver.get('https://1xbet.whoscored.com/Statistics')\n"
   ]
  },
  {
   "cell_type": "markdown",
   "metadata": {},
   "source": [
    "### Tạo ra các mảng trống để lưu dữ liệu"
   ]
  },
  {
   "cell_type": "code",
   "execution_count": 4,
   "metadata": {},
   "outputs": [],
   "source": [
    "_Player = []\n",
    "_Team= []\n",
    "_Position= []\n",
    "_Apps = []\n",
    "_Mins = []\n",
    "_Goals = []\n",
    "_Assists = []\n",
    "_YelCard = []\n",
    "_RedCard =[]\n",
    "_SpG = []\n",
    "_PS_percent =[]\n",
    "_AerialsWon = []\n",
    "_MotM = []\n",
    "_Ratting = []"
   ]
  },
  {
   "cell_type": "markdown",
   "metadata": {},
   "source": [
    "### Tên các thuộc tính được gán vào list Col_name"
   ]
  },
  {
   "cell_type": "markdown",
   "metadata": {},
   "source": [
    ">tạo các cột và gán tên cho từ cột giống với các cột trên trang web"
   ]
  },
  {
   "cell_type": "code",
   "execution_count": 5,
   "metadata": {},
   "outputs": [],
   "source": [
    "Col_name = [\"Player\",\"Team\",\"Position\",\"Apps\",\"Mins\",\"Goals\",\"Assists\",\"YelCard\",\"RedCard\",\"SpG\",\"PS\",\"AerialsWon\",\"MotM\",\"Ratting\"]"
   ]
  },
  {
   "cell_type": "markdown",
   "metadata": {},
   "source": [
    "### Srawling dữ liệu từ trang web có các bước thực hiện như sau:\n",
    "- Ta lấy dữ liệu bằng cách sử dụng XPATH để tìm tới phần tử muốn lấy về\n",
    "- Sau đó lưu tất cả các dữ liệu lấy được vào một mảng tạm\n",
    "- Nối mảng tạm ở trên vào một mảng lớn với thông tin của từng cột ở phía trên\n",
    "- Thực hiện nhấn chuyển trang \n",
    "- Đợi trang mới được load xong sau đó ta bắt đầu làm lại từ bước đầu\n"
   ]
  },
  {
   "cell_type": "code",
   "execution_count": 6,
   "metadata": {},
   "outputs": [],
   "source": [
    "page = 1\n",
    "max_page = 146\n",
    "while page < max_page :\n",
    "    #Tìm tới những dữ liệu cần crawl về sử dụng XPATH \n",
    "    player = driver.find_elements(By.XPATH,\"//table[@id='top-player-stats-summary-grid']/tbody/tr/td/a/span[@class ='iconize iconize-icon-left']\")\n",
    "    team = driver.find_elements(By.XPATH,\"//table/tbody/tr/td/a[2]/span\")\n",
    "    position = driver.find_elements(By.XPATH,\"//table/tbody/tr/td/span/span[2]\")\n",
    "    apps =  driver.find_elements(By.XPATH,\"//table[@id='top-player-stats-summary-grid']/tbody/tr/td[3]\")\n",
    "    mins=  driver.find_elements(By.XPATH,\"//table[@id='top-player-stats-summary-grid']/tbody/tr/td[4]\")\n",
    "    goals =  driver.find_elements(By.XPATH,\"//table[@id='top-player-stats-summary-grid']/tbody/tr/td[5]\")\n",
    "    assists =  driver.find_elements(By.XPATH,\"//table[@id='top-player-stats-summary-grid']/tbody/tr/td[6]\")\n",
    "    yel = driver.find_elements(By.XPATH,\"//table[@id='top-player-stats-summary-grid']/tbody/tr/td[7]\")\n",
    "    red =  driver.find_elements(By.XPATH,\"//table[@id='top-player-stats-summary-grid']/tbody/tr/td[8]\")\n",
    "    spg = driver.find_elements(By.XPATH,\"//table[@id='top-player-stats-summary-grid']/tbody/tr/td[9]\")\n",
    "    ps = driver.find_elements(By.XPATH,\"//table[@id='top-player-stats-summary-grid']/tbody/tr/td[10]\")\n",
    "    aerialswon= driver.find_elements(By.XPATH,\"//table[@id='top-player-stats-summary-grid']/tbody/tr/td[11]\")\n",
    "    motm= driver.find_elements(By.XPATH,\"//table[@id='top-player-stats-summary-grid']/tbody/tr/td[12]\")\n",
    "    ratting = driver.find_elements(By.XPATH,\"//table[@id='top-player-stats-summary-grid']/tbody/tr/td[13]\")\n",
    "\n",
    "\n",
    "    #gán giá trị của từng phần tử vào mảng\n",
    "    player_ele = [e.text for e in player] \n",
    "    team_ele = [team[i].text for i in range(len(team)) if i % 2 ==0]\n",
    "    position_ele = [e.text for e in position]\n",
    "    apps_ele = [e.text for e in apps]\n",
    "    mins_ele = [e.text for e in mins]\n",
    "    goals_ele = [e.text for e in goals]\n",
    "    assists_ele = [e.text for e in assists]\n",
    "    yel_ele = [e.text for e in yel]\n",
    "    red_ele = [e.text for e in red]\n",
    "    spg_ele = [e.text for e in spg]\n",
    "    ps_ele = [e.text for e in ps] \n",
    "    aerialswon_ele = [e.text for e in aerialswon]\n",
    "    motm_ele = [e.text for e in motm]\n",
    "    ratting_ele = [e.text for e in ratting]\n",
    "\n",
    "    # Nối các mảng đã tạo vào mảng lớn của từng thuộc tính đã tạo ở phía trên\n",
    "    _Player = [*_Player , *player_ele]\n",
    "    _Team= [*_Team , *team_ele]\n",
    "    _Position = [*_Position , *position_ele]\n",
    "    _Apps = [*_Apps,*apps_ele]\n",
    "    _Mins = [*_Mins,*mins_ele]\n",
    "    _Goals = [*_Goals,*goals_ele]\n",
    "    _Assists = [*_Assists, *assists_ele]\n",
    "    _YelCard = [*_YelCard,*yel_ele]\n",
    "    _RedCard =[*_RedCard,*red_ele]\n",
    "    _SpG = [*_SpG,*spg_ele]\n",
    "    _PS_percent =[*_PS_percent,*ps_ele]\n",
    "    _AerialsWon = [*_AerialsWon,*aerialswon_ele]\n",
    "    _MotM = [*_MotM, *motm_ele]\n",
    "    _Ratting = [*_Ratting,*ratting_ele]\n",
    "\n",
    "\n",
    "    # Tìm tới nút nhấn chuyển qua trang tiếp theo và thực hiện hành động nhấn chuyển trang\n",
    "    driver.find_element(By.XPATH,\"//div[@id='top-player-stats']/div/div[4]/div/dl/dd[3]/a[@id='next']\").click()\n",
    "\n",
    "    # Tạm dừng 8s để trang có thể load xong tránh trường hợp trang mới chưa kịp load  \n",
    "    time.sleep(8)\n",
    "    # page cộng thêm 1 trang sau khi ta chuyển qua trang khác\n",
    "    page +=1 \n",
    "    "
   ]
  },
  {
   "cell_type": "markdown",
   "metadata": {},
   "source": [
    "### Chuyển dữ liệu thành DataFrame"
   ]
  },
  {
   "cell_type": "markdown",
   "metadata": {},
   "source": [
    ">Ta ép dữ liệu vừa lấy được thành dạng list sau đó chuyển dữ liệu thành DataFrame"
   ]
  },
  {
   "cell_type": "code",
   "execution_count": 7,
   "metadata": {},
   "outputs": [],
   "source": [
    "data=pd.DataFrame(list(zip(_Player,_Team,_Position,_Apps,_Mins,_Goals,_Assists,_YelCard,_RedCard,_SpG,_PS_percent,_AerialsWon,_MotM,_Ratting)),columns=Col_name)"
   ]
  },
  {
   "cell_type": "markdown",
   "metadata": {},
   "source": [
    "### Xuất dữ liệu để kiểm tra "
   ]
  },
  {
   "cell_type": "code",
   "execution_count": 8,
   "metadata": {},
   "outputs": [
    {
     "data": {
      "text/html": [
       "<div>\n",
       "<style scoped>\n",
       "    .dataframe tbody tr th:only-of-type {\n",
       "        vertical-align: middle;\n",
       "    }\n",
       "\n",
       "    .dataframe tbody tr th {\n",
       "        vertical-align: top;\n",
       "    }\n",
       "\n",
       "    .dataframe thead th {\n",
       "        text-align: right;\n",
       "    }\n",
       "</style>\n",
       "<table border=\"1\" class=\"dataframe\">\n",
       "  <thead>\n",
       "    <tr style=\"text-align: right;\">\n",
       "      <th></th>\n",
       "      <th>Player</th>\n",
       "      <th>Team</th>\n",
       "      <th>Position</th>\n",
       "      <th>Apps</th>\n",
       "      <th>Mins</th>\n",
       "      <th>Goals</th>\n",
       "      <th>Assists</th>\n",
       "      <th>YelCard</th>\n",
       "      <th>RedCard</th>\n",
       "      <th>SpG</th>\n",
       "      <th>PS</th>\n",
       "      <th>AerialsWon</th>\n",
       "      <th>MotM</th>\n",
       "      <th>Ratting</th>\n",
       "    </tr>\n",
       "  </thead>\n",
       "  <tbody>\n",
       "    <tr>\n",
       "      <th>0</th>\n",
       "      <td>Lionel Messi</td>\n",
       "      <td>PSG,</td>\n",
       "      <td>, AM(CR),FW</td>\n",
       "      <td>13</td>\n",
       "      <td>1132</td>\n",
       "      <td>7</td>\n",
       "      <td>10</td>\n",
       "      <td>-</td>\n",
       "      <td>-</td>\n",
       "      <td>4.3</td>\n",
       "      <td>83.4</td>\n",
       "      <td>-</td>\n",
       "      <td>7</td>\n",
       "      <td>8.65</td>\n",
       "    </tr>\n",
       "    <tr>\n",
       "      <th>1</th>\n",
       "      <td>Neymar</td>\n",
       "      <td>PSG,</td>\n",
       "      <td>, AM(CLR),FW</td>\n",
       "      <td>12(2)</td>\n",
       "      <td>1085</td>\n",
       "      <td>11</td>\n",
       "      <td>9</td>\n",
       "      <td>3</td>\n",
       "      <td>-</td>\n",
       "      <td>2.4</td>\n",
       "      <td>82.6</td>\n",
       "      <td>0.1</td>\n",
       "      <td>2</td>\n",
       "      <td>7.96</td>\n",
       "    </tr>\n",
       "    <tr>\n",
       "      <th>2</th>\n",
       "      <td>Erling Haaland</td>\n",
       "      <td>Man City,</td>\n",
       "      <td>, FW</td>\n",
       "      <td>12(1)</td>\n",
       "      <td>1041</td>\n",
       "      <td>18</td>\n",
       "      <td>3</td>\n",
       "      <td>2</td>\n",
       "      <td>-</td>\n",
       "      <td>4</td>\n",
       "      <td>76.5</td>\n",
       "      <td>1</td>\n",
       "      <td>3</td>\n",
       "      <td>7.90</td>\n",
       "    </tr>\n",
       "    <tr>\n",
       "      <th>3</th>\n",
       "      <td>Kylian Mbappé</td>\n",
       "      <td>PSG,</td>\n",
       "      <td>, AM(LR),FW</td>\n",
       "      <td>13(1)</td>\n",
       "      <td>1146</td>\n",
       "      <td>12</td>\n",
       "      <td>2</td>\n",
       "      <td>2</td>\n",
       "      <td>-</td>\n",
       "      <td>4.3</td>\n",
       "      <td>84</td>\n",
       "      <td>0.4</td>\n",
       "      <td>1</td>\n",
       "      <td>7.87</td>\n",
       "    </tr>\n",
       "    <tr>\n",
       "      <th>4</th>\n",
       "      <td>Kevin De Bruyne</td>\n",
       "      <td>Man City,</td>\n",
       "      <td>, M(CLR),FW</td>\n",
       "      <td>13(1)</td>\n",
       "      <td>1135</td>\n",
       "      <td>3</td>\n",
       "      <td>9</td>\n",
       "      <td>-</td>\n",
       "      <td>-</td>\n",
       "      <td>2.4</td>\n",
       "      <td>79.5</td>\n",
       "      <td>0.4</td>\n",
       "      <td>5</td>\n",
       "      <td>7.76</td>\n",
       "    </tr>\n",
       "    <tr>\n",
       "      <th>...</th>\n",
       "      <td>...</td>\n",
       "      <td>...</td>\n",
       "      <td>...</td>\n",
       "      <td>...</td>\n",
       "      <td>...</td>\n",
       "      <td>...</td>\n",
       "      <td>...</td>\n",
       "      <td>...</td>\n",
       "      <td>...</td>\n",
       "      <td>...</td>\n",
       "      <td>...</td>\n",
       "      <td>...</td>\n",
       "      <td>...</td>\n",
       "      <td>...</td>\n",
       "    </tr>\n",
       "    <tr>\n",
       "      <th>1441</th>\n",
       "      <td>Oier Zarraga</td>\n",
       "      <td>Athletic Bilbao,</td>\n",
       "      <td>, M(CR)</td>\n",
       "      <td>1(8)</td>\n",
       "      <td>219</td>\n",
       "      <td>-</td>\n",
       "      <td>-</td>\n",
       "      <td>1</td>\n",
       "      <td>-</td>\n",
       "      <td>0.8</td>\n",
       "      <td>87.2</td>\n",
       "      <td>0.3</td>\n",
       "      <td>-</td>\n",
       "      <td>6.04</td>\n",
       "    </tr>\n",
       "    <tr>\n",
       "      <th>1442</th>\n",
       "      <td>Irvin Cardona</td>\n",
       "      <td>Brest,</td>\n",
       "      <td>, AM(L),FW</td>\n",
       "      <td>1(9)</td>\n",
       "      <td>225</td>\n",
       "      <td>-</td>\n",
       "      <td>-</td>\n",
       "      <td>-</td>\n",
       "      <td>-</td>\n",
       "      <td>0.4</td>\n",
       "      <td>58.9</td>\n",
       "      <td>0.4</td>\n",
       "      <td>-</td>\n",
       "      <td>6.04</td>\n",
       "    </tr>\n",
       "    <tr>\n",
       "      <th>1443</th>\n",
       "      <td>Kévin Biakolo</td>\n",
       "      <td>Toulouse,</td>\n",
       "      <td>, Midfielder</td>\n",
       "      <td>3(7)</td>\n",
       "      <td>298</td>\n",
       "      <td>-</td>\n",
       "      <td>-</td>\n",
       "      <td>1</td>\n",
       "      <td>-</td>\n",
       "      <td>0.1</td>\n",
       "      <td>80.9</td>\n",
       "      <td>0.2</td>\n",
       "      <td>-</td>\n",
       "      <td>6.04</td>\n",
       "    </tr>\n",
       "    <tr>\n",
       "      <th>1444</th>\n",
       "      <td>Patrick Herrmann</td>\n",
       "      <td>Borussia M.Gladbach,</td>\n",
       "      <td>, M(LR),FW</td>\n",
       "      <td>0(13)</td>\n",
       "      <td>107</td>\n",
       "      <td>1</td>\n",
       "      <td>-</td>\n",
       "      <td>2</td>\n",
       "      <td>-</td>\n",
       "      <td>0.5</td>\n",
       "      <td>70</td>\n",
       "      <td>0.1</td>\n",
       "      <td>-</td>\n",
       "      <td>6.01</td>\n",
       "    </tr>\n",
       "    <tr>\n",
       "      <th>1445</th>\n",
       "      <td>Mikael Ellertsson</td>\n",
       "      <td>Spezia,</td>\n",
       "      <td>, Midfielder</td>\n",
       "      <td>1(10)</td>\n",
       "      <td>164</td>\n",
       "      <td>-</td>\n",
       "      <td>-</td>\n",
       "      <td>3</td>\n",
       "      <td>-</td>\n",
       "      <td>0.2</td>\n",
       "      <td>64.9</td>\n",
       "      <td>0.2</td>\n",
       "      <td>-</td>\n",
       "      <td>5.98</td>\n",
       "    </tr>\n",
       "  </tbody>\n",
       "</table>\n",
       "<p>1446 rows × 14 columns</p>\n",
       "</div>"
      ],
      "text/plain": [
       "                 Player                  Team      Position   Apps  Mins  \\\n",
       "0          Lionel Messi                  PSG,   , AM(CR),FW     13  1132   \n",
       "1                Neymar                  PSG,  , AM(CLR),FW  12(2)  1085   \n",
       "2        Erling Haaland             Man City,          , FW  12(1)  1041   \n",
       "3         Kylian Mbappé                  PSG,   , AM(LR),FW  13(1)  1146   \n",
       "4       Kevin De Bruyne             Man City,   , M(CLR),FW  13(1)  1135   \n",
       "...                 ...                   ...           ...    ...   ...   \n",
       "1441       Oier Zarraga      Athletic Bilbao,       , M(CR)   1(8)   219   \n",
       "1442      Irvin Cardona                Brest,    , AM(L),FW   1(9)   225   \n",
       "1443      Kévin Biakolo             Toulouse,  , Midfielder   3(7)   298   \n",
       "1444   Patrick Herrmann  Borussia M.Gladbach,    , M(LR),FW  0(13)   107   \n",
       "1445  Mikael Ellertsson               Spezia,  , Midfielder  1(10)   164   \n",
       "\n",
       "     Goals Assists YelCard RedCard  SpG    PS AerialsWon MotM Ratting  \n",
       "0        7      10       -       -  4.3  83.4          -    7    8.65  \n",
       "1       11       9       3       -  2.4  82.6        0.1    2    7.96  \n",
       "2       18       3       2       -    4  76.5          1    3    7.90  \n",
       "3       12       2       2       -  4.3    84        0.4    1    7.87  \n",
       "4        3       9       -       -  2.4  79.5        0.4    5    7.76  \n",
       "...    ...     ...     ...     ...  ...   ...        ...  ...     ...  \n",
       "1441     -       -       1       -  0.8  87.2        0.3    -    6.04  \n",
       "1442     -       -       -       -  0.4  58.9        0.4    -    6.04  \n",
       "1443     -       -       1       -  0.1  80.9        0.2    -    6.04  \n",
       "1444     1       -       2       -  0.5    70        0.1    -    6.01  \n",
       "1445     -       -       3       -  0.2  64.9        0.2    -    5.98  \n",
       "\n",
       "[1446 rows x 14 columns]"
      ]
     },
     "execution_count": 8,
     "metadata": {},
     "output_type": "execute_result"
    }
   ],
   "source": [
    "data"
   ]
  },
  {
   "cell_type": "markdown",
   "metadata": {},
   "source": [
    "### Ghi kết quả vào file csv"
   ]
  },
  {
   "cell_type": "code",
   "execution_count": 9,
   "metadata": {},
   "outputs": [],
   "source": [
    "data.to_csv(\"DataFiFa.csv\",index= False)"
   ]
  }
 ],
 "metadata": {
  "kernelspec": {
   "display_name": "Python 3",
   "language": "python",
   "name": "python3"
  },
  "language_info": {
   "codemirror_mode": {
    "name": "ipython",
    "version": 3
   },
   "file_extension": ".py",
   "mimetype": "text/x-python",
   "name": "python",
   "nbconvert_exporter": "python",
   "pygments_lexer": "ipython3",
   "version": "3.10.0 (tags/v3.10.0:b494f59, Oct  4 2021, 19:00:18) [MSC v.1929 64 bit (AMD64)]"
  },
  "orig_nbformat": 4,
  "vscode": {
   "interpreter": {
    "hash": "f2ccb58c476f33ba3e3aee7ac07234ef6b8217ef24ad64d2a7d4fed1a57c1cd2"
   }
  }
 },
 "nbformat": 4,
 "nbformat_minor": 2
}
